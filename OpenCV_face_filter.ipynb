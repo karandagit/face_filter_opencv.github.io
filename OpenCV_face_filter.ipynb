{
 "cells": [
  {
   "cell_type": "code",
   "execution_count": 1,
   "metadata": {},
   "outputs": [],
   "source": [
    "import cv2"
   ]
  },
  {
   "cell_type": "code",
   "execution_count": 2,
   "metadata": {},
   "outputs": [],
   "source": [
    "dataset = cv2.CascadeClassifier('haarcascade_frontalface_default.xml')"
   ]
  },
  {
   "cell_type": "code",
   "execution_count": null,
   "metadata": {},
   "outputs": [],
   "source": [
    "s_img = cv2.imread(\"mask_1.png\",-1)\n",
    "capture = cv2.VideoCapture(0)\n",
    "\n",
    "while True:\n",
    "    ret, l_img = capture.read()\n",
    "    gray = cv2.cvtColor(l_img, cv2.COLOR_BGR2GRAY)\n",
    "    faces = dataset.detectMultiScale(gray, 1.2)\n",
    "    if len(faces) > 0:\n",
    "        # For Cap\n",
    "        x_offset = faces[0][0] - 15\n",
    "        y_offset = faces[0][1]\n",
    "\n",
    "        # For Mask\n",
    "        #x_offset = faces[0][0]\n",
    "        #y_offset = faces[0][1]\n",
    "\n",
    "        y1, y2 = y_offset, y_offset + s_img.shape[0]\n",
    "        x1, x2 = x_offset, x_offset + s_img.shape[1]\n",
    "\n",
    "        alpha_s = s_img[:, :, 3] / 255.0\n",
    "        alpha_l = 1.0 - alpha_s\n",
    "\n",
    "        for c in range(0, 3):\n",
    "            l_img[y1:y2, x1:x2, c] = (alpha_s * s_img[:, :, c] + alpha_l * l_img[y1:y2, x1:x2, c])\n",
    "\n",
    "        cv2.imshow('result',l_img)\n",
    "    if cv2.waitKey(1) == 27:\n",
    "        break\n",
    "\n",
    "capture.release()\n",
    "cv2.destroyAllWindows()"
   ]
  }
 ],
 "metadata": {
  "kernelspec": {
   "display_name": "Python 3",
   "language": "python",
   "name": "python3"
  },
  "language_info": {
   "codemirror_mode": {
    "name": "ipython",
    "version": 3
   },
   "file_extension": ".py",
   "mimetype": "text/x-python",
   "name": "python",
   "nbconvert_exporter": "python",
   "pygments_lexer": "ipython3",
   "version": "3.7.1"
  }
 },
 "nbformat": 4,
 "nbformat_minor": 2
}
